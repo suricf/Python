{
 "cells": [
  {
   "cell_type": "code",
   "execution_count": 1,
   "metadata": {},
   "outputs": [],
   "source": [
    "import pandas as pd\n",
    "import numpy as np\n",
    "import seaborn  as sns\n",
    "import matplotlib.pyplot as plt\n",
    "from scipy import stats"
   ]
  },
  {
   "cell_type": "code",
   "execution_count": 5,
   "metadata": {},
   "outputs": [],
   "source": [
    "df=pd.read_csv(\"de01-data.csv\", header=0,delimiter=',',encoding='utf-8')"
   ]
  },
  {
   "cell_type": "code",
   "execution_count": 9,
   "metadata": {},
   "outputs": [
    {
     "data": {
      "text/plain": [
       "Sexuality\n",
       "B    133\n",
       "G    147\n",
       "L    202\n",
       "Q    413\n",
       "T    105\n",
       "Name: Result, dtype: int64"
      ]
     },
     "execution_count": 9,
     "metadata": {},
     "output_type": "execute_result"
    }
   ],
   "source": [
    "gb=df.groupby(['Sexuality'])['Result'].count()\n",
    "gb"
   ]
  },
  {
   "cell_type": "code",
   "execution_count": 10,
   "metadata": {},
   "outputs": [
    {
     "data": {
      "text/plain": [
       "-0.07042972912340169"
      ]
     },
     "execution_count": 10,
     "metadata": {},
     "output_type": "execute_result"
    }
   ],
   "source": [
    "df['TimeToStudy'].skew()"
   ]
  },
  {
   "cell_type": "code",
   "execution_count": 17,
   "metadata": {},
   "outputs": [
    {
     "data": {
      "text/plain": [
       "([<matplotlib.patches.Wedge at 0x1d688a10550>,\n",
       "  <matplotlib.patches.Wedge at 0x1d688cf06d0>,\n",
       "  <matplotlib.patches.Wedge at 0x1d688cf2a50>,\n",
       "  <matplotlib.patches.Wedge at 0x1d688d18f50>,\n",
       "  <matplotlib.patches.Wedge at 0x1d688d1b6d0>],\n",
       " [Text(0.987429900240286, 0.4847496179590645, 'B'),\n",
       "  Text(0.24173220355409844, 1.073110218833499, 'G'),\n",
       "  Text(-0.826323896255983, 0.726077694517833, 'L'),\n",
       "  Text(-0.3399185762739153, -1.046162206115244, 'Q'),\n",
       "  Text(1.059804299426045, -0.2946435930375377, 'T')],\n",
       " [Text(0.5385981274037923, 0.26440888252312605, '14.53%'),\n",
       "  Text(0.1318539292113264, 0.5853328466364539, '13.89%'),\n",
       "  Text(-0.4507221252305361, 0.3960423788279089, '20.21%'),\n",
       "  Text(-0.1854101325130447, -0.5706339306083149, '42.74%'),\n",
       "  Text(0.5780750724142063, -0.16071468711138417, '8.63%')])"
      ]
     },
     "execution_count": 17,
     "metadata": {},
     "output_type": "execute_result"
    },
    {
     "data": {
      "image/png": "[encoded data removed]",
      "text/plain": [
       "<Figure size 640x480 with 1 Axes>"
      ]
     },
     "metadata": {},
     "output_type": "display_data"
    }
   ],
   "source": [
    "gb=df[df['Result']=='YES'].groupby(['Sexuality'])['Result'].count()\n",
    "labels=gb.index\n",
    "data = list(gb)\n",
    "colors = sns.color_palette('pastel') #Tạo bảng màu\n",
    "plt.pie(data,labels=labels, colors=colors, autopct='%1.2f%%', shadow= True)"
   ]
  },
  {
   "cell_type": "code",
   "execution_count": 20,
   "metadata": {},
   "outputs": [
    {
     "data": {
      "text/html": [
       "<div>\n",
       "<style scoped>\n",
       "    .dataframe tbody tr th:only-of-type {\n",
       "        vertical-align: middle;\n",
       "    }\n",
       "\n",
       "    .dataframe tbody tr th {\n",
       "        vertical-align: top;\n",
       "    }\n",
       "\n",
       "    .dataframe thead th {\n",
       "        text-align: right;\n",
       "    }\n",
       "</style>\n",
       "<table border=\"1\" class=\"dataframe\">\n",
       "  <thead>\n",
       "    <tr style=\"text-align: right;\">\n",
       "      <th>InterviewScore</th>\n",
       "      <th>A</th>\n",
       "      <th>B</th>\n",
       "      <th>C</th>\n",
       "      <th>D</th>\n",
       "      <th>F</th>\n",
       "    </tr>\n",
       "    <tr>\n",
       "      <th>Sexuality</th>\n",
       "      <th></th>\n",
       "      <th></th>\n",
       "      <th></th>\n",
       "      <th></th>\n",
       "      <th></th>\n",
       "    </tr>\n",
       "  </thead>\n",
       "  <tbody>\n",
       "    <tr>\n",
       "      <th>B</th>\n",
       "      <td>5</td>\n",
       "      <td>24</td>\n",
       "      <td>30</td>\n",
       "      <td>42</td>\n",
       "      <td>32</td>\n",
       "    </tr>\n",
       "    <tr>\n",
       "      <th>G</th>\n",
       "      <td>8</td>\n",
       "      <td>19</td>\n",
       "      <td>40</td>\n",
       "      <td>46</td>\n",
       "      <td>34</td>\n",
       "    </tr>\n",
       "    <tr>\n",
       "      <th>L</th>\n",
       "      <td>9</td>\n",
       "      <td>37</td>\n",
       "      <td>64</td>\n",
       "      <td>54</td>\n",
       "      <td>38</td>\n",
       "    </tr>\n",
       "    <tr>\n",
       "      <th>Q</th>\n",
       "      <td>16</td>\n",
       "      <td>65</td>\n",
       "      <td>126</td>\n",
       "      <td>122</td>\n",
       "      <td>84</td>\n",
       "    </tr>\n",
       "    <tr>\n",
       "      <th>T</th>\n",
       "      <td>6</td>\n",
       "      <td>15</td>\n",
       "      <td>31</td>\n",
       "      <td>32</td>\n",
       "      <td>21</td>\n",
       "    </tr>\n",
       "  </tbody>\n",
       "</table>\n",
       "</div>"
      ],
      "text/plain": [
       "InterviewScore   A   B    C    D   F\n",
       "Sexuality                           \n",
       "B                5  24   30   42  32\n",
       "G                8  19   40   46  34\n",
       "L                9  37   64   54  38\n",
       "Q               16  65  126  122  84\n",
       "T                6  15   31   32  21"
      ]
     },
     "execution_count": 20,
     "metadata": {},
     "output_type": "execute_result"
    }
   ],
   "source": [
    "crosdata = pd.crosstab(df['Sexuality'], [df['InterviewScore']], rownames=['Sexuality'], colnames=['InterviewScore'])\n",
    "crosdata\n",
    "\n"
   ]
  },
  {
   "cell_type": "code",
   "execution_count": 16,
   "metadata": {},
   "outputs": [
    {
     "name": "stdout",
     "output_type": "stream",
     "text": [
      "p value is 0.9300780652577139\n",
      "Independent (H0 holds true)\n"
     ]
    }
   ],
   "source": [
    "from scipy.stats import chi2_contingency\n",
    "stat, p, dof, expected = chi2_contingency(crosdata)\n",
    "# interpret p-value\n",
    "alpha = 0.05\n",
    "print(\"p value is \" + str(p))\n",
    "if p <= alpha:\n",
    "    print('Dependent (reject H0)')\n",
    "else:\n",
    "    print('Independent (H0 holds true)')"
   ]
  },
  {
   "cell_type": "code",
   "execution_count": 30,
   "metadata": {},
   "outputs": [
    {
     "data": {
      "text/html": [
       "<div>\n",
       "<style scoped>\n",
       "    .dataframe tbody tr th:only-of-type {\n",
       "        vertical-align: middle;\n",
       "    }\n",
       "\n",
       "    .dataframe tbody tr th {\n",
       "        vertical-align: top;\n",
       "    }\n",
       "\n",
       "    .dataframe thead th {\n",
       "        text-align: right;\n",
       "    }\n",
       "</style>\n",
       "<table border=\"1\" class=\"dataframe\">\n",
       "  <thead>\n",
       "    <tr style=\"text-align: right;\">\n",
       "      <th></th>\n",
       "      <th>df</th>\n",
       "      <th>sum_sq</th>\n",
       "      <th>mean_sq</th>\n",
       "      <th>F</th>\n",
       "      <th>PR(&gt;F)</th>\n",
       "    </tr>\n",
       "  </thead>\n",
       "  <tbody>\n",
       "    <tr>\n",
       "      <th>Sexuality</th>\n",
       "      <td>4.0</td>\n",
       "      <td>2.501237</td>\n",
       "      <td>0.625309</td>\n",
       "      <td>0.478149</td>\n",
       "      <td>0.751816</td>\n",
       "    </tr>\n",
       "    <tr>\n",
       "      <th>Residual</th>\n",
       "      <td>995.0</td>\n",
       "      <td>1301.232673</td>\n",
       "      <td>1.307772</td>\n",
       "      <td>NaN</td>\n",
       "      <td>NaN</td>\n",
       "    </tr>\n",
       "  </tbody>\n",
       "</table>\n",
       "</div>"
      ],
      "text/plain": [
       "              df       sum_sq   mean_sq         F    PR(>F)\n",
       "Sexuality    4.0     2.501237  0.625309  0.478149  0.751816\n",
       "Residual   995.0  1301.232673  1.307772       NaN       NaN"
      ]
     },
     "execution_count": 30,
     "metadata": {},
     "output_type": "execute_result"
    }
   ],
   "source": [
    "import statsmodels.api as sm\n",
    "from statsmodels.formula.api import ols\n",
    "\n",
    "model = ols('ProfessionalScore ~ Sexuality', data=df).fit()\n",
    "aov_table = sm.stats.anova_lm(model, typ=1)\n",
    "aov_table"
   ]
  },
  {
   "cell_type": "code",
   "execution_count": 22,
   "metadata": {},
   "outputs": [],
   "source": [
    "from sklearn.preprocessing import MinMaxScaler\n",
    "from sklearn import linear_model \n",
    "X=df[['TimeToStudy','TimeToPlay']].values\n",
    "y=df['ProfessionalScore'].values\n",
    "X=X.astype(float)\n",
    "y=y.astype(float)\n",
    "from sklearn.model_selection import train_test_split\n",
    "X_train, X_test, y_train, y_test = train_test_split(X,y,test_size=0.2, \n",
    "                                                    random_state=16)"
   ]
  },
  {
   "cell_type": "code",
   "execution_count": 23,
   "metadata": {},
   "outputs": [
    {
     "name": "stdout",
     "output_type": "stream",
     "text": [
      "1.8525360252105272\n",
      "[0.00968469 0.01172014]\n"
     ]
    }
   ],
   "source": [
    "\n",
    "from sklearn import linear_model \n",
    "\n",
    "model = linear_model.LinearRegression()\n",
    "model.fit(X_train,y_train)\n",
    "print(model.intercept_)\n",
    "print(model.coef_)"
   ]
  },
  {
   "cell_type": "code",
   "execution_count": 24,
   "metadata": {},
   "outputs": [
    {
     "name": "stdout",
     "output_type": "stream",
     "text": [
      "Score or R-squared:  -0.00402957123492409\n",
      "Mean Absolute Error: 0.9957741901130669\n",
      "Mean Squared Error: 1.307426976063301\n",
      "Root Mean Squared Error: 1.1434277310190186\n",
      "Mean Absolute percentage Error: 173654249807822.2\n"
     ]
    }
   ],
   "source": [
    "import numpy as np\n",
    "from sklearn import metrics\n",
    "y_test_pred=model.predict(X_test)\n",
    "print('Score or R-squared: ',model.score(X_test,y_test))\n",
    "print('Mean Absolute Error:', metrics.mean_absolute_error(y_test, y_test_pred))  \n",
    "print('Mean Squared Error:', metrics.mean_squared_error(y_test, y_test_pred))  \n",
    "print('Root Mean Squared Error:', np.sqrt(metrics.mean_squared_error(y_test, y_test_pred)))\n",
    "print('Mean Absolute percentage Error:', metrics.mean_absolute_percentage_error(y_test, y_test_pred)) "
   ]
  },
  {
   "cell_type": "code",
   "execution_count": 25,
   "metadata": {},
   "outputs": [],
   "source": [
    "#Lưu trữ mô hình hồi quy xuống thiết bị\n",
    "import pickle\n",
    "pickle.dump(model,open('a.sv','wb'))"
   ]
  },
  {
   "cell_type": "code",
   "execution_count": 26,
   "metadata": {},
   "outputs": [
    {
     "name": "stdout",
     "output_type": "stream",
     "text": [
      "Dự báo điểm thi NGONNGU là: [1.98300043]\n"
     ]
    }
   ],
   "source": [
    "#xây dựng chương trình nhập điểm T5,T6 từ bàn phím\n",
    "#Hãy dự báo điểm thi NGONNGU\n",
    "import pickle\n",
    "loaded_model=pickle.load(open('a.sv','rb'))\n",
    "vT5=float(input(\"Nhập T5: \"))\n",
    "vT6=float(input('Nhập T6: '))\n",
    "\n",
    "predicted_vLogic=loaded_model.predict([[vT5,vT6]])\n",
    "print(f'Dự báo điểm thi NGONNGU là: {predicted_vLogic}')"
   ]
  },
  {
   "cell_type": "code",
   "execution_count": 31,
   "metadata": {},
   "outputs": [
    {
     "name": "stdout",
     "output_type": "stream",
     "text": [
      "                            OLS Regression Results                            \n",
      "==============================================================================\n",
      "Dep. Variable:                      y   R-squared:                       0.003\n",
      "Model:                            OLS   Adj. R-squared:                  0.001\n",
      "Method:                 Least Squares   F-statistic:                     1.253\n",
      "Date:                Tue, 24 Oct 2023   Prob (F-statistic):              0.286\n",
      "Time:                        15:47:56   Log-Likelihood:                -1550.3\n",
      "No. Observations:                1000   AIC:                             3107.\n",
      "Df Residuals:                     997   BIC:                             3121.\n",
      "Df Model:                           2                                         \n",
      "Covariance Type:            nonrobust                                         \n",
      "==============================================================================\n",
      "                 coef    std err          t      P>|t|      [0.025      0.975]\n",
      "------------------------------------------------------------------------------\n",
      "const          1.8134      0.096     18.860      0.000       1.625       2.002\n",
      "x1             0.0062      0.013      0.488      0.626      -0.019       0.031\n",
      "x2             0.0187      0.013      1.490      0.137      -0.006       0.043\n",
      "==============================================================================\n",
      "Omnibus:                      473.605   Durbin-Watson:                   1.917\n",
      "Prob(Omnibus):                  0.000   Jarque-Bera (JB):               54.357\n",
      "Skew:                           0.044   Prob(JB):                     1.57e-12\n",
      "Kurtosis:                       1.861   Cond. No.                         20.9\n",
      "==============================================================================\n",
      "\n",
      "Notes:\n",
      "[1] Standard Errors assume that the covariance matrix of the errors is correctly specified.\n"
     ]
    }
   ],
   "source": [
    "import statsmodels.api as sm\n",
    "\n",
    "\n",
    "#adding a constant\n",
    "X_with_constant = sm.add_constant(df[[\"TimeToStudy\",\"TimeToPlay\"]].values)\n",
    "\n",
    "\n",
    "y = df[['ProfessionalScore']].values\n",
    "\n",
    "\n",
    "#performing the regression\n",
    "result = sm.OLS(y, X_with_constant).fit()\n",
    "\n",
    "\n",
    "# Result of statsmodels\n",
    "print(result.summary())"
   ]
  },
  {
   "cell_type": "code",
   "execution_count": 32,
   "metadata": {},
   "outputs": [
    {
     "data": {
      "text/html": [
       "<div>\n",
       "<style scoped>\n",
       "    .dataframe tbody tr th:only-of-type {\n",
       "        vertical-align: middle;\n",
       "    }\n",
       "\n",
       "    .dataframe tbody tr th {\n",
       "        vertical-align: top;\n",
       "    }\n",
       "\n",
       "    .dataframe thead th {\n",
       "        text-align: right;\n",
       "    }\n",
       "</style>\n",
       "<table border=\"1\" class=\"dataframe\">\n",
       "  <thead>\n",
       "    <tr style=\"text-align: right;\">\n",
       "      <th></th>\n",
       "      <th>TimeToStudy</th>\n",
       "      <th>TimeToPlay</th>\n",
       "      <th>ProfessionalScore</th>\n",
       "    </tr>\n",
       "  </thead>\n",
       "  <tbody>\n",
       "    <tr>\n",
       "      <th>TimeToStudy</th>\n",
       "      <td>1.000000</td>\n",
       "      <td>0.031654</td>\n",
       "      <td>0.016941</td>\n",
       "    </tr>\n",
       "    <tr>\n",
       "      <th>TimeToPlay</th>\n",
       "      <td>0.031654</td>\n",
       "      <td>1.000000</td>\n",
       "      <td>0.047634</td>\n",
       "    </tr>\n",
       "    <tr>\n",
       "      <th>ProfessionalScore</th>\n",
       "      <td>0.016941</td>\n",
       "      <td>0.047634</td>\n",
       "      <td>1.000000</td>\n",
       "    </tr>\n",
       "  </tbody>\n",
       "</table>\n",
       "</div>"
      ],
      "text/plain": [
       "                   TimeToStudy  TimeToPlay  ProfessionalScore\n",
       "TimeToStudy           1.000000    0.031654           0.016941\n",
       "TimeToPlay            0.031654    1.000000           0.047634\n",
       "ProfessionalScore     0.016941    0.047634           1.000000"
      ]
     },
     "execution_count": 32,
     "metadata": {},
     "output_type": "execute_result"
    }
   ],
   "source": [
    "df[['TimeToStudy','TimeToPlay','ProfessionalScore']].corr()"
   ]
  },
  {
   "cell_type": "code",
   "execution_count": 33,
   "metadata": {},
   "outputs": [
    {
     "data": {
      "text/plain": [
       "count    1000.000000\n",
       "mean        5.064000\n",
       "std         2.843235\n",
       "min         0.000000\n",
       "25%         2.700000\n",
       "50%         5.200000\n",
       "75%         7.400000\n",
       "max        10.000000\n",
       "Name: TimeToStudy, dtype: float64"
      ]
     },
     "execution_count": 33,
     "metadata": {},
     "output_type": "execute_result"
    }
   ],
   "source": [
    "df['TimeToStudy'].describe()"
   ]
  },
  {
   "cell_type": "code",
   "execution_count": 34,
   "metadata": {},
   "outputs": [
    {
     "data": {
      "text/plain": [
       "([<matplotlib.patches.Wedge at 0x1d68a60b490>,\n",
       "  <matplotlib.patches.Wedge at 0x1d68a608210>,\n",
       "  <matplotlib.patches.Wedge at 0x1d68a6117d0>,\n",
       "  <matplotlib.patches.Wedge at 0x1d68a613e50>,\n",
       "  <matplotlib.patches.Wedge at 0x1d68c652350>],\n",
       " [Text(1.0053679774626623, 0.44635773757451114, 'B'),\n",
       "  Text(0.2969211155765594, 1.0591684715496263, 'G'),\n",
       "  Text(-0.8065809029736678, 0.7479486927311144, 'L'),\n",
       "  Text(-0.4145580984795792, -1.018892331399641, 'Q'),\n",
       "  Text(1.0406938816998714, -0.3563091980183139, 'T')],\n",
       " [Text(0.548382533161452, 0.24346785685882422, '13.30%'),\n",
       "  Text(0.16195697213266874, 0.577728257208887, '14.70%'),\n",
       "  Text(-0.43995321980381874, 0.40797201421697143, '20.20%'),\n",
       "  Text(-0.2261225991706795, -0.5557594534907132, '41.30%'),\n",
       "  Text(0.5676512081999299, -0.19435047164635302, '10.50%')])"
      ]
     },
     "execution_count": 34,
     "metadata": {},
     "output_type": "execute_result"
    },
    {
     "data": {
      "image/png": "[encoded data removed]",
      "text/plain": [
       "<Figure size 640x480 with 1 Axes>"
      ]
     },
     "metadata": {},
     "output_type": "display_data"
    }
   ],
   "source": [
    "gb=df.groupby(['Sexuality'])['Result'].count()\n",
    "labels=gb.index\n",
    "data = list(gb)\n",
    "colors = sns.color_palette('pastel') #Tạo bảng màu\n",
    "plt.pie(data,labels=labels, colors=colors, autopct='%1.2f%%', shadow= True)"
   ]
  },
  {
   "cell_type": "code",
   "execution_count": 67,
   "metadata": {},
   "outputs": [
    {
     "data": {
      "text/plain": [
       "5.75"
      ]
     },
     "execution_count": 67,
     "metadata": {},
     "output_type": "execute_result"
    }
   ],
   "source": [
    "# đây là biểu đồ quan trọng trong việc phân tích dữ liệu định lượng \n",
    "# Biểu đồ nay cung cấp các thông tin quan trong như\n",
    "#1. Q1:Từ phân vị 25%\n",
    "#2. Q2: Từ phân vị 50%(median)\n",
    "#3. Q3: Từ phân vị 75%\n",
    "#4. Độ lớn của IQR=|Q3-Q1|\n",
    "#5. Lower bound =Q1 - 1.5*IQR\n",
    "#6. Upper bound = Q3 + 1.5IQR\n",
    "#7. Các ngoại biên, bất thường (outlier) cần xử lý trong dữ liệu \n",
    "#Outlier: là điểm dữ liệu khác biết quá nhiều so với đa số\n",
    "#Hướng dẫn \n",
    "#+Tính khoảng nghi ngờ chứa outliers\n",
    "df['ProfessionalScore'].describe()\n",
    "x=2.9+1.5*(2.9-1)\n",
    "x"
   ]
  },
  {
   "cell_type": "code",
   "execution_count": 69,
   "metadata": {},
   "outputs": [
    {
     "data": {
      "text/plain": [
       "TimeToPlay                 15\n",
       "TimeToStudy                15\n",
       "ProfessionalScore          15\n",
       "InterviewScore             15\n",
       "Sexuality                  15\n",
       "ExpectedSalary             15\n",
       "SocialNetworkingTimeUse    14\n",
       "YES                        15\n",
       "dtype: int64"
      ]
     },
     "execution_count": 69,
     "metadata": {},
     "output_type": "execute_result"
    }
   ],
   "source": [
    "x=np.sort(df['ProfessionalScore'])\n",
    "x\n",
    "gb=df[df['ProfessionalScore']==4.].count()\n",
    "gb"
   ]
  },
  {
   "cell_type": "code",
   "execution_count": 50,
   "metadata": {},
   "outputs": [
    {
     "data": {
      "text/html": [
       "<div>\n",
       "<style scoped>\n",
       "    .dataframe tbody tr th:only-of-type {\n",
       "        vertical-align: middle;\n",
       "    }\n",
       "\n",
       "    .dataframe tbody tr th {\n",
       "        vertical-align: top;\n",
       "    }\n",
       "\n",
       "    .dataframe thead th {\n",
       "        text-align: right;\n",
       "    }\n",
       "</style>\n",
       "<table border=\"1\" class=\"dataframe\">\n",
       "  <thead>\n",
       "    <tr style=\"text-align: right;\">\n",
       "      <th>InterviewScore</th>\n",
       "      <th>A</th>\n",
       "      <th>B</th>\n",
       "      <th>C</th>\n",
       "      <th>D</th>\n",
       "      <th>F</th>\n",
       "    </tr>\n",
       "  </thead>\n",
       "  <tbody>\n",
       "    <tr>\n",
       "      <th>0</th>\n",
       "      <td>5</td>\n",
       "      <td>15</td>\n",
       "      <td>30</td>\n",
       "      <td>32</td>\n",
       "      <td>21</td>\n",
       "    </tr>\n",
       "    <tr>\n",
       "      <th>1</th>\n",
       "      <td>6</td>\n",
       "      <td>19</td>\n",
       "      <td>31</td>\n",
       "      <td>42</td>\n",
       "      <td>32</td>\n",
       "    </tr>\n",
       "    <tr>\n",
       "      <th>2</th>\n",
       "      <td>8</td>\n",
       "      <td>24</td>\n",
       "      <td>40</td>\n",
       "      <td>46</td>\n",
       "      <td>34</td>\n",
       "    </tr>\n",
       "    <tr>\n",
       "      <th>3</th>\n",
       "      <td>9</td>\n",
       "      <td>37</td>\n",
       "      <td>64</td>\n",
       "      <td>54</td>\n",
       "      <td>38</td>\n",
       "    </tr>\n",
       "    <tr>\n",
       "      <th>4</th>\n",
       "      <td>16</td>\n",
       "      <td>65</td>\n",
       "      <td>126</td>\n",
       "      <td>122</td>\n",
       "      <td>84</td>\n",
       "    </tr>\n",
       "  </tbody>\n",
       "</table>\n",
       "</div>"
      ],
      "text/plain": [
       "InterviewScore   A   B    C    D   F\n",
       "0                5  15   30   32  21\n",
       "1                6  19   31   42  32\n",
       "2                8  24   40   46  34\n",
       "3                9  37   64   54  38\n",
       "4               16  65  126  122  84"
      ]
     },
     "execution_count": 50,
     "metadata": {},
     "output_type": "execute_result"
    }
   ],
   "source": [
    "crosdata = pd.crosstab(df['Sexuality'], [df['InterviewScore']], rownames=['Sexuality'], colnames=['InterviewScore'])\n",
    "crosdata.mode()\n"
   ]
  },
  {
   "cell_type": "code",
   "execution_count": 52,
   "metadata": {},
   "outputs": [
    {
     "data": {
      "text/html": [
       "<div>\n",
       "<style scoped>\n",
       "    .dataframe tbody tr th:only-of-type {\n",
       "        vertical-align: middle;\n",
       "    }\n",
       "\n",
       "    .dataframe tbody tr th {\n",
       "        vertical-align: top;\n",
       "    }\n",
       "\n",
       "    .dataframe thead th {\n",
       "        text-align: right;\n",
       "    }\n",
       "</style>\n",
       "<table border=\"1\" class=\"dataframe\">\n",
       "  <thead>\n",
       "    <tr style=\"text-align: right;\">\n",
       "      <th>InterviewScore</th>\n",
       "      <th>A</th>\n",
       "      <th>B</th>\n",
       "      <th>C</th>\n",
       "      <th>D</th>\n",
       "      <th>F</th>\n",
       "    </tr>\n",
       "    <tr>\n",
       "      <th>Sexuality</th>\n",
       "      <th></th>\n",
       "      <th></th>\n",
       "      <th></th>\n",
       "      <th></th>\n",
       "      <th></th>\n",
       "    </tr>\n",
       "  </thead>\n",
       "  <tbody>\n",
       "    <tr>\n",
       "      <th>B</th>\n",
       "      <td>5</td>\n",
       "      <td>24</td>\n",
       "      <td>30</td>\n",
       "      <td>42</td>\n",
       "      <td>32</td>\n",
       "    </tr>\n",
       "    <tr>\n",
       "      <th>G</th>\n",
       "      <td>8</td>\n",
       "      <td>19</td>\n",
       "      <td>40</td>\n",
       "      <td>46</td>\n",
       "      <td>34</td>\n",
       "    </tr>\n",
       "    <tr>\n",
       "      <th>L</th>\n",
       "      <td>9</td>\n",
       "      <td>37</td>\n",
       "      <td>64</td>\n",
       "      <td>54</td>\n",
       "      <td>38</td>\n",
       "    </tr>\n",
       "    <tr>\n",
       "      <th>Q</th>\n",
       "      <td>16</td>\n",
       "      <td>65</td>\n",
       "      <td>126</td>\n",
       "      <td>122</td>\n",
       "      <td>84</td>\n",
       "    </tr>\n",
       "    <tr>\n",
       "      <th>T</th>\n",
       "      <td>6</td>\n",
       "      <td>15</td>\n",
       "      <td>31</td>\n",
       "      <td>32</td>\n",
       "      <td>21</td>\n",
       "    </tr>\n",
       "  </tbody>\n",
       "</table>\n",
       "</div>"
      ],
      "text/plain": [
       "InterviewScore   A   B    C    D   F\n",
       "Sexuality                           \n",
       "B                5  24   30   42  32\n",
       "G                8  19   40   46  34\n",
       "L                9  37   64   54  38\n",
       "Q               16  65  126  122  84\n",
       "T                6  15   31   32  21"
      ]
     },
     "execution_count": 52,
     "metadata": {},
     "output_type": "execute_result"
    }
   ],
   "source": [
    "crosdata = pd.crosstab(df['Sexuality'], [df['InterviewScore']], rownames=['Sexuality'], colnames=['InterviewScore'])\n",
    "crosdata"
   ]
  },
  {
   "cell_type": "code",
   "execution_count": 54,
   "metadata": {},
   "outputs": [
    {
     "data": {
      "image/png": "[encoded data removed]",
      "text/plain": [
       "<Figure size 640x480 with 1 Axes>"
      ]
     },
     "metadata": {},
     "output_type": "display_data"
    }
   ],
   "source": [
    "df['TimeToStudy'].hist(bins=5)\n",
    "plt.show()"
   ]
  },
  {
   "cell_type": "code",
   "execution_count": 57,
   "metadata": {},
   "outputs": [
    {
     "data": {
      "text/html": [
       "<div>\n",
       "<style scoped>\n",
       "    .dataframe tbody tr th:only-of-type {\n",
       "        vertical-align: middle;\n",
       "    }\n",
       "\n",
       "    .dataframe tbody tr th {\n",
       "        vertical-align: top;\n",
       "    }\n",
       "\n",
       "    .dataframe thead th {\n",
       "        text-align: right;\n",
       "    }\n",
       "</style>\n",
       "<table border=\"1\" class=\"dataframe\">\n",
       "  <thead>\n",
       "    <tr style=\"text-align: right;\">\n",
       "      <th>Sexuality</th>\n",
       "      <th>B</th>\n",
       "      <th>G</th>\n",
       "      <th>L</th>\n",
       "      <th>Q</th>\n",
       "      <th>T</th>\n",
       "    </tr>\n",
       "    <tr>\n",
       "      <th>Result</th>\n",
       "      <th></th>\n",
       "      <th></th>\n",
       "      <th></th>\n",
       "      <th></th>\n",
       "      <th></th>\n",
       "    </tr>\n",
       "  </thead>\n",
       "  <tbody>\n",
       "    <tr>\n",
       "      <th>NO</th>\n",
       "      <td>5.193750</td>\n",
       "      <td>4.467901</td>\n",
       "      <td>5.631132</td>\n",
       "      <td>4.904286</td>\n",
       "      <td>5.290625</td>\n",
       "    </tr>\n",
       "    <tr>\n",
       "      <th>YES</th>\n",
       "      <td>5.233333</td>\n",
       "      <td>4.680303</td>\n",
       "      <td>5.016667</td>\n",
       "      <td>5.045813</td>\n",
       "      <td>5.895122</td>\n",
       "    </tr>\n",
       "  </tbody>\n",
       "</table>\n",
       "</div>"
      ],
      "text/plain": [
       "Sexuality         B         G         L         Q         T\n",
       "Result                                                     \n",
       "NO         5.193750  4.467901  5.631132  4.904286  5.290625\n",
       "YES        5.233333  4.680303  5.016667  5.045813  5.895122"
      ]
     },
     "execution_count": 57,
     "metadata": {},
     "output_type": "execute_result"
    }
   ],
   "source": [
    "pv = pd.pivot_table(df, values='TimeToPlay', index=[ 'Result'], \n",
    "                    columns='Sexuality')\n",
    "pv"
   ]
  },
  {
   "cell_type": "code",
   "execution_count": 70,
   "metadata": {},
   "outputs": [
    {
     "data": {
      "text/plain": [
       "count    1000.000000\n",
       "mean        5.064000\n",
       "std         2.843235\n",
       "min         0.000000\n",
       "25%         2.700000\n",
       "50%         5.200000\n",
       "75%         7.400000\n",
       "max        10.000000\n",
       "Name: TimeToStudy, dtype: float64"
      ]
     },
     "execution_count": 70,
     "metadata": {},
     "output_type": "execute_result"
    }
   ],
   "source": [
    "df['TimeToStudy'].describe()"
   ]
  },
  {
   "cell_type": "code",
   "execution_count": 60,
   "metadata": {},
   "outputs": [
    {
     "data": {
      "text/html": [
       "<div>\n",
       "<style scoped>\n",
       "    .dataframe tbody tr th:only-of-type {\n",
       "        vertical-align: middle;\n",
       "    }\n",
       "\n",
       "    .dataframe tbody tr th {\n",
       "        vertical-align: top;\n",
       "    }\n",
       "\n",
       "    .dataframe thead th {\n",
       "        text-align: right;\n",
       "    }\n",
       "</style>\n",
       "<table border=\"1\" class=\"dataframe\">\n",
       "  <thead>\n",
       "    <tr style=\"text-align: right;\">\n",
       "      <th></th>\n",
       "      <th>TimeToPlay</th>\n",
       "      <th>TimeToStudy</th>\n",
       "      <th>ProfessionalScore</th>\n",
       "      <th>InterviewScore</th>\n",
       "      <th>Sexuality</th>\n",
       "      <th>ExpectedSalary</th>\n",
       "      <th>SocialNetworkingTimeUse</th>\n",
       "      <th>YES</th>\n",
       "    </tr>\n",
       "  </thead>\n",
       "  <tbody>\n",
       "    <tr>\n",
       "      <th>0</th>\n",
       "      <td>0.1</td>\n",
       "      <td>4.4</td>\n",
       "      <td>2.5</td>\n",
       "      <td>F</td>\n",
       "      <td>T</td>\n",
       "      <td>249.6</td>\n",
       "      <td>Much</td>\n",
       "      <td>0</td>\n",
       "    </tr>\n",
       "    <tr>\n",
       "      <th>1</th>\n",
       "      <td>4.1</td>\n",
       "      <td>5.7</td>\n",
       "      <td>3.7</td>\n",
       "      <td>D</td>\n",
       "      <td>L</td>\n",
       "      <td>114.6</td>\n",
       "      <td>Pretty</td>\n",
       "      <td>1</td>\n",
       "    </tr>\n",
       "    <tr>\n",
       "      <th>2</th>\n",
       "      <td>7.3</td>\n",
       "      <td>0.9</td>\n",
       "      <td>2.7</td>\n",
       "      <td>D</td>\n",
       "      <td>T</td>\n",
       "      <td>862.0</td>\n",
       "      <td>Almost</td>\n",
       "      <td>0</td>\n",
       "    </tr>\n",
       "    <tr>\n",
       "      <th>3</th>\n",
       "      <td>6.2</td>\n",
       "      <td>8.8</td>\n",
       "      <td>2.7</td>\n",
       "      <td>D</td>\n",
       "      <td>T</td>\n",
       "      <td>147.2</td>\n",
       "      <td>Almost</td>\n",
       "      <td>1</td>\n",
       "    </tr>\n",
       "    <tr>\n",
       "      <th>4</th>\n",
       "      <td>5.0</td>\n",
       "      <td>3.1</td>\n",
       "      <td>0.2</td>\n",
       "      <td>D</td>\n",
       "      <td>Q</td>\n",
       "      <td>653.4</td>\n",
       "      <td>Pretty</td>\n",
       "      <td>0</td>\n",
       "    </tr>\n",
       "  </tbody>\n",
       "</table>\n",
       "</div>"
      ],
      "text/plain": [
       "   TimeToPlay  TimeToStudy  ProfessionalScore InterviewScore Sexuality  \\\n",
       "0         0.1          4.4                2.5              F         T   \n",
       "1         4.1          5.7                3.7              D         L   \n",
       "2         7.3          0.9                2.7              D         T   \n",
       "3         6.2          8.8                2.7              D         T   \n",
       "4         5.0          3.1                0.2              D         Q   \n",
       "\n",
       "   ExpectedSalary SocialNetworkingTimeUse  YES  \n",
       "0           249.6                    Much    0  \n",
       "1           114.6                  Pretty    1  \n",
       "2           862.0                  Almost    0  \n",
       "3           147.2                  Almost    1  \n",
       "4           653.4                  Pretty    0  "
      ]
     },
     "execution_count": 60,
     "metadata": {},
     "output_type": "execute_result"
    }
   ],
   "source": [
    "df['Result'].astype(str)\n",
    "Result = pd.get_dummies(df[ 'Result'], drop_first=True,dtype=int)\n",
    "df.drop('Result', axis=1, inplace=True)\n",
    "df = pd.concat([df, Result], axis=1)\n",
    "df.head(5)"
   ]
  },
  {
   "cell_type": "code",
   "execution_count": 62,
   "metadata": {},
   "outputs": [
    {
     "data": {
      "text/html": [
       "<div>\n",
       "<style scoped>\n",
       "    .dataframe tbody tr th:only-of-type {\n",
       "        vertical-align: middle;\n",
       "    }\n",
       "\n",
       "    .dataframe tbody tr th {\n",
       "        vertical-align: top;\n",
       "    }\n",
       "\n",
       "    .dataframe thead th {\n",
       "        text-align: right;\n",
       "    }\n",
       "</style>\n",
       "<table border=\"1\" class=\"dataframe\">\n",
       "  <thead>\n",
       "    <tr style=\"text-align: right;\">\n",
       "      <th></th>\n",
       "      <th>df</th>\n",
       "      <th>sum_sq</th>\n",
       "      <th>mean_sq</th>\n",
       "      <th>F</th>\n",
       "      <th>PR(&gt;F)</th>\n",
       "    </tr>\n",
       "  </thead>\n",
       "  <tbody>\n",
       "    <tr>\n",
       "      <th>Sexuality</th>\n",
       "      <td>4.0</td>\n",
       "      <td>1.217593</td>\n",
       "      <td>0.304398</td>\n",
       "      <td>1.2205</td>\n",
       "      <td>0.30037</td>\n",
       "    </tr>\n",
       "    <tr>\n",
       "      <th>Residual</th>\n",
       "      <td>995.0</td>\n",
       "      <td>248.157407</td>\n",
       "      <td>0.249404</td>\n",
       "      <td>NaN</td>\n",
       "      <td>NaN</td>\n",
       "    </tr>\n",
       "  </tbody>\n",
       "</table>\n",
       "</div>"
      ],
      "text/plain": [
       "              df      sum_sq   mean_sq       F   PR(>F)\n",
       "Sexuality    4.0    1.217593  0.304398  1.2205  0.30037\n",
       "Residual   995.0  248.157407  0.249404     NaN      NaN"
      ]
     },
     "execution_count": 62,
     "metadata": {},
     "output_type": "execute_result"
    }
   ],
   "source": [
    "import statsmodels.api as sm\n",
    "from statsmodels.formula.api import ols\n",
    "\n",
    "model = ols('YES ~ Sexuality', data=df).fit()\n",
    "aov_table = sm.stats.anova_lm(model, typ=1)\n",
    "aov_table"
   ]
  },
  {
   "cell_type": "code",
   "execution_count": 65,
   "metadata": {},
   "outputs": [
    {
     "name": "stderr",
     "output_type": "stream",
     "text": [
      "f:\\tai lieu\\python\\Lib\\site-packages\\seaborn\\_oldcore.py:1498: FutureWarning: is_categorical_dtype is deprecated and will be removed in a future version. Use isinstance(dtype, CategoricalDtype) instead\n",
      "  if pd.api.types.is_categorical_dtype(vector):\n",
      "f:\\tai lieu\\python\\Lib\\site-packages\\seaborn\\_oldcore.py:1498: FutureWarning: is_categorical_dtype is deprecated and will be removed in a future version. Use isinstance(dtype, CategoricalDtype) instead\n",
      "  if pd.api.types.is_categorical_dtype(vector):\n",
      "f:\\tai lieu\\python\\Lib\\site-packages\\seaborn\\_oldcore.py:1498: FutureWarning: is_categorical_dtype is deprecated and will be removed in a future version. Use isinstance(dtype, CategoricalDtype) instead\n",
      "  if pd.api.types.is_categorical_dtype(vector):\n",
      "f:\\tai lieu\\python\\Lib\\site-packages\\seaborn\\_oldcore.py:1498: FutureWarning: is_categorical_dtype is deprecated and will be removed in a future version. Use isinstance(dtype, CategoricalDtype) instead\n",
      "  if pd.api.types.is_categorical_dtype(vector):\n"
     ]
    },
    {
     "data": {
      "text/plain": [
       "<Axes: xlabel='Sexuality', ylabel='ProfessionalScore'>"
      ]
     },
     "execution_count": 65,
     "metadata": {},
     "output_type": "execute_result"
    },
    {
     "data": {
      "image/png": "[encoded data removed]",
      "text/plain": [
       "<Figure size 640x480 with 1 Axes>"
      ]
     },
     "metadata": {},
     "output_type": "display_data"
    }
   ],
   "source": [
    "sns.barplot(x='Sexuality', y='ProfessionalScore', hue='YES', data=df)"
   ]
  }
 ],
 "metadata": {
  "kernelspec": {
   "display_name": "Python 3",
   "language": "python",
   "name": "python3"
  },
  "language_info": {
   "codemirror_mode": {
    "name": "ipython",
    "version": 3
   },
   "file_extension": ".py",
   "mimetype": "text/x-python",
   "name": "python",
   "nbconvert_exporter": "python",
   "pygments_lexer": "ipython3",
   "version": "3.11.5"
  },
  "orig_nbformat": 4
 },
 "nbformat": 4,
 "nbformat_minor": 2
}
