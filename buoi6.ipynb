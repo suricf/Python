{
 "cells": [
  {
   "cell_type": "code",
   "execution_count": 1,
   "metadata": {},
   "outputs": [],
   "source": [
    "import pandas as pd\n",
    "import numpy as np\n",
    "import seaborn  as sns\n",
    "import matplotlib.pyplot as plt\n",
    "import scipy.stats as stats"
   ]
  },
  {
   "cell_type": "code",
   "execution_count": 2,
   "metadata": {},
   "outputs": [],
   "source": [
    "# 1. Kỹ thuật Binning\n",
    "# Mục đích:\n",
    "# - Sử dụng để biến đổi biến định lượng về biến định tính thông qua việc chia khoảng\n",
    "# - Giảm thiểu dữ liệu nhiễu\n",
    "# - Làm mịn (smooth) dữ liệu\n",
    "# - Hỗ trợ trong nhiều bài toán Machine Learning như Decision Tree\n",
    "\n",
    "#create DataFrame\n",
    "df = pd.DataFrame({'points': [4, 4, 7, 8, 12, 13, 15, 18, 22, 23, 23, 25],\n",
    "                   'assists': [2, 5, 4, 7, 7, 8, 5, 4, 5, 11, 13, 8],\n",
    "                   'rebounds': [7, 7, 4, 6, 3, 8, 9, 9, 12, 11, 8, 9]})"
   ]
  },
  {
   "cell_type": "code",
   "execution_count": 3,
   "metadata": {},
   "outputs": [
    {
     "name": "stdout",
     "output_type": "stream",
     "text": [
      "    points  assists  rebounds        points_bin\n",
      "0        4        2         7   (3.999, 10.667]\n",
      "1        4        5         7   (3.999, 10.667]\n",
      "2        7        4         4   (3.999, 10.667]\n",
      "3        8        7         6   (3.999, 10.667]\n",
      "4       12        7         3  (10.667, 19.333]\n",
      "5       13        8         8  (10.667, 19.333]\n",
      "6       15        5         9  (10.667, 19.333]\n",
      "7       18        4         9  (10.667, 19.333]\n",
      "8       22        5        12    (19.333, 25.0]\n",
      "9       23       11        11    (19.333, 25.0]\n",
      "10      23       13         8    (19.333, 25.0]\n",
      "11      25        8         9    (19.333, 25.0]\n"
     ]
    }
   ],
   "source": [
    "#perform data binning on points variable\n",
    "df['points_bin'] = pd.qcut(df['points'], q=3)\n",
    "\n",
    "\n",
    "#view updated DataFrame\n",
    "print(df)"
   ]
  },
  {
   "cell_type": "code",
   "execution_count": 4,
   "metadata": {},
   "outputs": [
    {
     "data": {
      "text/plain": [
       "points_bin\n",
       "(3.999, 10.667]     4\n",
       "(10.667, 19.333]    4\n",
       "(19.333, 25.0]      4\n",
       "Name: count, dtype: int64"
      ]
     },
     "execution_count": 4,
     "metadata": {},
     "output_type": "execute_result"
    }
   ],
   "source": [
    "#count frequency of each bin\n",
    "df['points_bin'].value_counts()"
   ]
  },
  {
   "cell_type": "code",
   "execution_count": 6,
   "metadata": {},
   "outputs": [
    {
     "name": "stdout",
     "output_type": "stream",
     "text": [
      "    points  assists  rebounds points_bin\n",
      "0        4        2         7          A\n",
      "1        4        5         7          A\n",
      "2        7        4         4          A\n",
      "3        8        7         6          B\n",
      "4       12        7         3          B\n",
      "5       13        8         8          C\n",
      "6       15        5         9          C\n",
      "7       18        4         9          D\n",
      "8       22        5        12          D\n",
      "9       23       11        11          E\n",
      "10      23       13         8          E\n",
      "11      25        8         9          E\n"
     ]
    }
   ],
   "source": [
    "#perform data binning on points variable with specific quantiles\n",
    "df['points_bin'] = pd.qcut(df['points'],\n",
    "                           q=[0, .2, .4, .6, .8, 1],\n",
    "                           labels=['A', 'B', 'C', 'D', 'E'])\n",
    "\n",
    "\n",
    "#view updated DataFrame\n",
    "print(df)"
   ]
  },
  {
   "cell_type": "code",
   "execution_count": 7,
   "metadata": {},
   "outputs": [
    {
     "name": "stdout",
     "output_type": "stream",
     "text": [
      "    points  assists  rebounds    points_bin\n",
      "0        4        2         7  (3.999, 7.2]\n",
      "1        4        5         7  (3.999, 7.2]\n",
      "2        7        4         4  (3.999, 7.2]\n",
      "3        8        7         6   (7.2, 12.4]\n",
      "4       12        7         3   (7.2, 12.4]\n",
      "5       13        8         8  (12.4, 16.8]\n",
      "6       15        5         9  (12.4, 16.8]\n",
      "7       18        4         9  (16.8, 22.8]\n",
      "8       22        5        12  (16.8, 22.8]\n",
      "9       23       11        11  (22.8, 25.0]\n",
      "10      23       13         8  (22.8, 25.0]\n",
      "11      25        8         9  (22.8, 25.0]\n"
     ]
    }
   ],
   "source": [
    "df['points_bin'] = pd.qcut(df['points'],\n",
    "                           q=[0, .2, .4, .6, .8, 1])\n",
    "print(df)"
   ]
  },
  {
   "cell_type": "code",
   "execution_count": 8,
   "metadata": {},
   "outputs": [
    {
     "name": "stdout",
     "output_type": "stream",
     "text": [
      "  team  points\n",
      "0    A      12\n",
      "1    B      15\n",
      "2    C      19\n",
      "3    D      22\n",
      "4    E      24\n",
      "5    F      25\n",
      "6    G      26\n",
      "7    H      30\n"
     ]
    }
   ],
   "source": [
    "import pandas as pd\n",
    "\n",
    "\n",
    "#create DataFrame with one categorical variable and one numeric variable\n",
    "df = pd.DataFrame({'team': ['A', 'B', 'C', 'D', 'E', 'F', 'G', 'H'],\n",
    "                   'points': [12, 15, 19, 22, 24, 25, 26, 30]})\n",
    "\n",
    "\n",
    "#view DataFrame\n",
    "print(df)"
   ]
  },
  {
   "cell_type": "code",
   "execution_count": 9,
   "metadata": {},
   "outputs": [
    {
     "name": "stdout",
     "output_type": "stream",
     "text": [
      "  team  points status\n",
      "0    A      12    Bad\n",
      "1    B      15    Bad\n",
      "2    C      19     OK\n",
      "3    D      22     OK\n",
      "4    E      24     OK\n",
      "5    F      25     OK\n",
      "6    G      26   Good\n",
      "7    H      30   Good\n"
     ]
    }
   ],
   "source": [
    "#create categorical variable 'status' based on existing numerical 'points' variable\n",
    "df['status'] = pd.cut(df['points'],\n",
    "                      bins=[0, 15, 25, float('Inf')],\n",
    "                      labels=['Bad', 'OK', 'Good'])\n",
    "\n",
    "\n",
    "#view updated DataFrame\n",
    "print(df)"
   ]
  },
  {
   "cell_type": "code",
   "execution_count": 11,
   "metadata": {},
   "outputs": [
    {
     "data": {
      "text/html": [
       "<div>\n",
       "<style scoped>\n",
       "    .dataframe tbody tr th:only-of-type {\n",
       "        vertical-align: middle;\n",
       "    }\n",
       "\n",
       "    .dataframe tbody tr th {\n",
       "        vertical-align: top;\n",
       "    }\n",
       "\n",
       "    .dataframe thead th {\n",
       "        text-align: right;\n",
       "    }\n",
       "</style>\n",
       "<table border=\"1\" class=\"dataframe\">\n",
       "  <thead>\n",
       "    <tr style=\"text-align: right;\">\n",
       "      <th></th>\n",
       "      <th>Ids</th>\n",
       "      <th>Countries</th>\n",
       "    </tr>\n",
       "  </thead>\n",
       "  <tbody>\n",
       "    <tr>\n",
       "      <th>0</th>\n",
       "      <td>11</td>\n",
       "      <td>Spain</td>\n",
       "    </tr>\n",
       "    <tr>\n",
       "      <th>1</th>\n",
       "      <td>22</td>\n",
       "      <td>France</td>\n",
       "    </tr>\n",
       "    <tr>\n",
       "      <th>2</th>\n",
       "      <td>33</td>\n",
       "      <td>Spain</td>\n",
       "    </tr>\n",
       "    <tr>\n",
       "      <th>3</th>\n",
       "      <td>44</td>\n",
       "      <td>Germany</td>\n",
       "    </tr>\n",
       "    <tr>\n",
       "      <th>4</th>\n",
       "      <td>55</td>\n",
       "      <td>France</td>\n",
       "    </tr>\n",
       "  </tbody>\n",
       "</table>\n",
       "</div>"
      ],
      "text/plain": [
       "   Ids Countries\n",
       "0   11     Spain\n",
       "1   22    France\n",
       "2   33     Spain\n",
       "3   44   Germany\n",
       "4   55    France"
      ]
     },
     "execution_count": 11,
     "metadata": {},
     "output_type": "execute_result"
    }
   ],
   "source": [
    "import pandas as pd\n",
    "\n",
    "\n",
    "ids = [11, 22, 33, 44, 55, 66, 77]\n",
    "countries = ['Spain', 'France', 'Spain', 'Germany', 'France']\n",
    "\n",
    "\n",
    "df = pd.DataFrame(list(zip(ids, countries)),\n",
    "                  columns=['Ids', 'Countries'])\n",
    "df"
   ]
  },
  {
   "cell_type": "code",
   "execution_count": 12,
   "metadata": {},
   "outputs": [
    {
     "name": "stdout",
     "output_type": "stream",
     "text": [
      "   Country_France  Country_Germany  Country_Spain\n",
      "0           False            False           True\n",
      "1            True            False          False\n",
      "2           False            False           True\n",
      "3           False             True          False\n",
      "4            True            False          False\n"
     ]
    }
   ],
   "source": [
    "dfOneHotEncoding = pd.get_dummies(df.Countries, prefix='Country')\n",
    "print(dfOneHotEncoding.head())"
   ]
  },
  {
   "cell_type": "code",
   "execution_count": 13,
   "metadata": {},
   "outputs": [
    {
     "data": {
      "text/html": [
       "<div>\n",
       "<style scoped>\n",
       "    .dataframe tbody tr th:only-of-type {\n",
       "        vertical-align: middle;\n",
       "    }\n",
       "\n",
       "    .dataframe tbody tr th {\n",
       "        vertical-align: top;\n",
       "    }\n",
       "\n",
       "    .dataframe thead th {\n",
       "        text-align: right;\n",
       "    }\n",
       "</style>\n",
       "<table border=\"1\" class=\"dataframe\">\n",
       "  <thead>\n",
       "    <tr style=\"text-align: right;\">\n",
       "      <th></th>\n",
       "      <th>Ids</th>\n",
       "      <th>Countries</th>\n",
       "      <th>Country_France</th>\n",
       "      <th>Country_Germany</th>\n",
       "      <th>Country_Spain</th>\n",
       "    </tr>\n",
       "  </thead>\n",
       "  <tbody>\n",
       "    <tr>\n",
       "      <th>0</th>\n",
       "      <td>11</td>\n",
       "      <td>Spain</td>\n",
       "      <td>False</td>\n",
       "      <td>False</td>\n",
       "      <td>True</td>\n",
       "    </tr>\n",
       "    <tr>\n",
       "      <th>1</th>\n",
       "      <td>22</td>\n",
       "      <td>France</td>\n",
       "      <td>True</td>\n",
       "      <td>False</td>\n",
       "      <td>False</td>\n",
       "    </tr>\n",
       "    <tr>\n",
       "      <th>2</th>\n",
       "      <td>33</td>\n",
       "      <td>Spain</td>\n",
       "      <td>False</td>\n",
       "      <td>False</td>\n",
       "      <td>True</td>\n",
       "    </tr>\n",
       "    <tr>\n",
       "      <th>3</th>\n",
       "      <td>44</td>\n",
       "      <td>Germany</td>\n",
       "      <td>False</td>\n",
       "      <td>True</td>\n",
       "      <td>False</td>\n",
       "    </tr>\n",
       "    <tr>\n",
       "      <th>4</th>\n",
       "      <td>55</td>\n",
       "      <td>France</td>\n",
       "      <td>True</td>\n",
       "      <td>False</td>\n",
       "      <td>False</td>\n",
       "    </tr>\n",
       "  </tbody>\n",
       "</table>\n",
       "</div>"
      ],
      "text/plain": [
       "   Ids Countries  Country_France  Country_Germany  Country_Spain\n",
       "0   11     Spain           False            False           True\n",
       "1   22    France            True            False          False\n",
       "2   33     Spain           False            False           True\n",
       "3   44   Germany           False             True          False\n",
       "4   55    France            True            False          False"
      ]
     },
     "execution_count": 13,
     "metadata": {},
     "output_type": "execute_result"
    }
   ],
   "source": [
    "df = pd.concat([df, dfOneHotEncoding], axis=1)\n",
    "df\n"
   ]
  },
  {
   "cell_type": "code",
   "execution_count": 18,
   "metadata": {},
   "outputs": [
    {
     "data": {
      "text/plain": [
       "array([[0, 0, 1],\n",
       "       [1, 0, 0],\n",
       "       [0, 0, 1],\n",
       "       [0, 1, 0],\n",
       "       [1, 0, 0]])"
      ]
     },
     "execution_count": 18,
     "metadata": {},
     "output_type": "execute_result"
    }
   ],
   "source": [
    "# Encoding to vectorize\n",
    "from sklearn.preprocessing import LabelBinarizer\n",
    "y = LabelBinarizer().fit_transform(df.Countries)\n",
    "y\n"
   ]
  },
  {
   "cell_type": "code",
   "execution_count": 17,
   "metadata": {},
   "outputs": [
    {
     "name": "stdout",
     "output_type": "stream",
     "text": [
      "[[1. 0. 0. 0. 0. 0. 0. 1. 1. 0. 1. 0. 0. 1.]\n",
      " [0. 1. 0. 0. 0. 1. 0. 0. 0. 1. 1. 0. 1. 0.]\n",
      " [0. 0. 1. 0. 0. 0. 0. 1. 1. 0. 1. 0. 0. 1.]\n",
      " [0. 0. 0. 1. 0. 0. 1. 0. 1. 0. 0. 1. 1. 0.]\n",
      " [0. 0. 0. 0. 1. 1. 0. 0. 0. 1. 1. 0. 1. 0.]]\n"
     ]
    }
   ],
   "source": [
    "from sklearn.preprocessing import OneHotEncoder\n",
    "y = OneHotEncoder().fit_transform(df).toarray()\n",
    "print(y)"
   ]
  },
  {
   "cell_type": "code",
   "execution_count": 19,
   "metadata": {},
   "outputs": [
    {
     "name": "stdout",
     "output_type": "stream",
     "text": [
      "[[0. 0. 1.]\n",
      " [1. 0. 0.]\n",
      " [0. 0. 1.]\n",
      " [0. 1. 0.]\n",
      " [1. 0. 0.]]\n"
     ]
    }
   ],
   "source": [
    "# Encoding to vectorize\n",
    "from sklearn.preprocessing import OneHotEncoder\n",
    "y = OneHotEncoder().fit_transform(df[['Countries']]).toarray()\n",
    "print(y)"
   ]
  },
  {
   "cell_type": "code",
   "execution_count": 21,
   "metadata": {},
   "outputs": [
    {
     "data": {
      "text/html": [
       "<div>\n",
       "<style scoped>\n",
       "    .dataframe tbody tr th:only-of-type {\n",
       "        vertical-align: middle;\n",
       "    }\n",
       "\n",
       "    .dataframe tbody tr th {\n",
       "        vertical-align: top;\n",
       "    }\n",
       "\n",
       "    .dataframe thead th {\n",
       "        text-align: right;\n",
       "    }\n",
       "</style>\n",
       "<table border=\"1\" class=\"dataframe\">\n",
       "  <thead>\n",
       "    <tr style=\"text-align: right;\">\n",
       "      <th></th>\n",
       "      <th>Age</th>\n",
       "      <th>Height_inch</th>\n",
       "      <th>Weight_lb</th>\n",
       "    </tr>\n",
       "  </thead>\n",
       "  <tbody>\n",
       "    <tr>\n",
       "      <th>0</th>\n",
       "      <td>10</td>\n",
       "      <td>130</td>\n",
       "      <td>80</td>\n",
       "    </tr>\n",
       "    <tr>\n",
       "      <th>1</th>\n",
       "      <td>35</td>\n",
       "      <td>178</td>\n",
       "      <td>200</td>\n",
       "    </tr>\n",
       "    <tr>\n",
       "      <th>2</th>\n",
       "      <td>34</td>\n",
       "      <td>155</td>\n",
       "      <td>220</td>\n",
       "    </tr>\n",
       "    <tr>\n",
       "      <th>3</th>\n",
       "      <td>23</td>\n",
       "      <td>133</td>\n",
       "      <td>150</td>\n",
       "    </tr>\n",
       "    <tr>\n",
       "      <th>4</th>\n",
       "      <td>70</td>\n",
       "      <td>195</td>\n",
       "      <td>140</td>\n",
       "    </tr>\n",
       "    <tr>\n",
       "      <th>5</th>\n",
       "      <td>55</td>\n",
       "      <td>150</td>\n",
       "      <td>95</td>\n",
       "    </tr>\n",
       "    <tr>\n",
       "      <th>6</th>\n",
       "      <td>89</td>\n",
       "      <td>205</td>\n",
       "      <td>180</td>\n",
       "    </tr>\n",
       "  </tbody>\n",
       "</table>\n",
       "</div>"
      ],
      "text/plain": [
       "   Age  Height_inch  Weight_lb\n",
       "0   10          130         80\n",
       "1   35          178        200\n",
       "2   34          155        220\n",
       "3   23          133        150\n",
       "4   70          195        140\n",
       "5   55          150         95\n",
       "6   89          205        180"
      ]
     },
     "execution_count": 21,
     "metadata": {},
     "output_type": "execute_result"
    }
   ],
   "source": [
    "import pandas as pd\n",
    "\n",
    "\n",
    "df = pd.DataFrame.from_dict({\n",
    "    'Age': [10, 35, 34, 23, 70, 55, 89],\n",
    "    'Height_inch': [130, 178, 155, 133, 195, 150, 205],\n",
    "    'Weight_lb': [80, 200, 220, 150, 140, 95, 180]\n",
    "})\n",
    "df"
   ]
  },
  {
   "cell_type": "code",
   "execution_count": 23,
   "metadata": {},
   "outputs": [
    {
     "name": "stdout",
     "output_type": "stream",
     "text": [
      "        Age  Height_inch  Weight_lb\n",
      "0  0.112360     0.634146   0.363636\n",
      "1  0.393258     0.868293   0.909091\n",
      "2  0.382022     0.756098   1.000000\n",
      "3  0.258427     0.648780   0.681818\n",
      "4  0.786517     0.951220   0.636364\n",
      "5  0.617978     0.731707   0.431818\n",
      "6  1.000000     1.000000   0.818182\n"
     ]
    }
   ],
   "source": [
    "#1.Maximum scale\n",
    "#xscaled= x/max(|x|)\n",
    "# Maximum Scale\n",
    "def absolute_maximum_scale(series):\n",
    "    return series / series.abs().max()\n",
    "\n",
    "\n",
    "for col in df.columns:\n",
    "    df[col] = absolute_maximum_scale(df[col])\n",
    "\n",
    "\n",
    "print(df)"
   ]
  },
  {
   "cell_type": "code",
   "execution_count": 24,
   "metadata": {},
   "outputs": [
    {
     "name": "stdout",
     "output_type": "stream",
     "text": [
      "        Age  Height_inch  Weight_lb\n",
      "0  0.112360     0.634146   0.363636\n",
      "1  0.393258     0.868293   0.909091\n",
      "2  0.382022     0.756098   1.000000\n",
      "3  0.258427     0.648780   0.681818\n",
      "4  0.786517     0.951220   0.636364\n",
      "5  0.617978     0.731707   0.431818\n",
      "6  1.000000     1.000000   0.818182\n"
     ]
    }
   ],
   "source": [
    "# Use Scikit-learn to transform with maximum absolute scaling\n",
    "from sklearn.preprocessing import MaxAbsScaler\n",
    "scaler = MaxAbsScaler()\n",
    "scaler.fit(df)\n",
    "scaled = scaler.transform(df)\n",
    "scaled_df = pd.DataFrame(scaled, columns=df.columns)\n",
    "\n",
    "\n",
    "print(scaled_df)\n"
   ]
  },
  {
   "cell_type": "code",
   "execution_count": 26,
   "metadata": {},
   "outputs": [
    {
     "name": "stdout",
     "output_type": "stream",
     "text": [
      "        Age  Height_inch  Weight_lb\n",
      "0  0.000000     0.000000   0.000000\n",
      "1  0.316456     0.640000   0.857143\n",
      "2  0.303797     0.333333   1.000000\n",
      "3  0.164557     0.040000   0.500000\n",
      "4  0.759494     0.866667   0.428571\n",
      "5  0.569620     0.266667   0.107143\n",
      "6  1.000000     1.000000   0.714286\n"
     ]
    }
   ],
   "source": [
    "#2.Min-Max scaler\n",
    "#x scaled=x-min(x)/(max(x)-min(x))\n",
    "# Normalize a Pandas Column with Min-Max Feature Scaling using scikit-learn\n",
    "from sklearn.preprocessing import MinMaxScaler\n",
    "\n",
    "\n",
    "scaler = MinMaxScaler()\n",
    "scaler.fit(df)\n",
    "scaled = scaler.fit_transform(df)\n",
    "scaled_df = pd.DataFrame(scaled, columns=df.columns)\n",
    "\n",
    "\n",
    "print(scaled_df)"
   ]
  },
  {
   "cell_type": "code",
   "execution_count": 29,
   "metadata": {},
   "outputs": [
    {
     "name": "stdout",
     "output_type": "stream",
     "text": [
      "        Age  Height_inch  Weight_lb\n",
      "0 -1.270474    -1.141772  -1.384428\n",
      "1 -0.366682     0.483802   0.918383\n",
      "2 -0.402833    -0.295119   1.302185\n",
      "3 -0.800502    -1.040174  -0.041122\n",
      "4  0.898628     1.059526  -0.233023\n",
      "5  0.356352    -0.464450  -1.096577\n",
      "6  1.585510     1.398187   0.534581\n"
     ]
    }
   ],
   "source": [
    "#z-score(standardization)\n",
    "#x-scale =x-mean/dolechchuan\n",
    "#độ lệch chuẩn: std\n",
    "#để so sánh khác đơn vị không tương đồng về cùng hệ quy chiếu so sánh\n",
    "#ví dụ: cầm 2 tỷ mua nhà củ chi và thành phố đo khoảng cách tới trung tâm  \n",
    "def z_score_standardization(series):\n",
    "    return (series - series.mean()) / series.std()\n",
    "\n",
    "\n",
    "for col in df.columns:\n",
    "    df[col] = z_score_standardization(df[col])\n",
    "\n",
    "\n",
    "print(df)"
   ]
  },
  {
   "cell_type": "code",
   "execution_count": 30,
   "metadata": {},
   "outputs": [
    {
     "name": "stdout",
     "output_type": "stream",
     "text": [
      "        Age  Height_inch  Weight_lb\n",
      "0 -1.372269    -1.233255  -1.495353\n",
      "1 -0.396061     0.522566   0.991967\n",
      "2 -0.435110    -0.318765   1.406520\n",
      "3 -0.864641    -1.123516  -0.044416\n",
      "4  0.970629     1.144419  -0.251693\n",
      "5  0.384905    -0.501663  -1.184438\n",
      "6  1.712547     1.510215   0.577414\n"
     ]
    }
   ],
   "source": [
    "# Standardize a Pandas Column with Z-Score Scaling using scikit-learn\n",
    "from sklearn.preprocessing import StandardScaler\n",
    "\n",
    "\n",
    "scaler = StandardScaler()\n",
    "scaler.fit(df)\n",
    "scaled = scaler.fit_transform(df)\n",
    "\n",
    "\n",
    "scaled_df = pd.DataFrame(scaled, columns=df.columns)\n",
    "\n",
    "\n",
    "print(scaled_df)"
   ]
  }
 ],
 "metadata": {
  "kernelspec": {
   "display_name": "Python 3",
   "language": "python",
   "name": "python3"
  },
  "language_info": {
   "codemirror_mode": {
    "name": "ipython",
    "version": 3
   },
   "file_extension": ".py",
   "mimetype": "text/x-python",
   "name": "python",
   "nbconvert_exporter": "python",
   "pygments_lexer": "ipython3",
   "version": "3.11.4"
  },
  "orig_nbformat": 4
 },
 "nbformat": 4,
 "nbformat_minor": 2
}
